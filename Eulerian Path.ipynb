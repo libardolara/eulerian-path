{
 "cells": [
  {
   "cell_type": "code",
   "execution_count": 70,
   "metadata": {},
   "outputs": [],
   "source": [
    "class Node:\n",
    "    \n",
    "    def __init__(self, name):\n",
    "        self.name = name\n",
    "        self.arcs = {}\n",
    "    \n",
    "    def add_arc(self, node):\n",
    "        self.arcs[node.name] = (node)\n",
    "        \n",
    "    def even(self):\n",
    "        return len(self.arcs)%2 == 0\n",
    "    \n",
    "    def __len__(self):\n",
    "        return len(self.arcs)\n",
    "    \n",
    "    def __repr__(self):\n",
    "        return f\"Node {self.name}\"\n",
    "    \n",
    "    def __str__(self):\n",
    "        return f\"Node {self.name} with arcs to: {self.arcs}\"\n"
   ]
  },
  {
   "cell_type": "code",
   "execution_count": 175,
   "metadata": {},
   "outputs": [],
   "source": [
    "a = Node(\"A\")\n",
    "b = Node(\"B\")\n",
    "c = Node(\"C\")\n",
    "d = Node(\"D\")\n",
    "e = Node(\"E\")\n",
    "f = Node(\"F\")"
   ]
  },
  {
   "cell_type": "code",
   "execution_count": 176,
   "metadata": {},
   "outputs": [],
   "source": [
    "a.add_arc(b)\n",
    "a.add_arc(f)"
   ]
  },
  {
   "cell_type": "code",
   "execution_count": 177,
   "metadata": {},
   "outputs": [],
   "source": [
    "b.add_arc(a)\n",
    "b.add_arc(c)\n",
    "b.add_arc(d)\n",
    "b.add_arc(e)"
   ]
  },
  {
   "cell_type": "code",
   "execution_count": 178,
   "metadata": {},
   "outputs": [],
   "source": [
    "c.add_arc(b)\n",
    "c.add_arc(d)\n",
    "c.add_arc(e)\n",
    "c.add_arc(f)"
   ]
  },
  {
   "cell_type": "code",
   "execution_count": 179,
   "metadata": {},
   "outputs": [],
   "source": [
    "e.add_arc(c)\n",
    "e.add_arc(b)\n",
    "e.add_arc(d)\n",
    "e.add_arc(f)"
   ]
  },
  {
   "cell_type": "code",
   "execution_count": 180,
   "metadata": {},
   "outputs": [],
   "source": [
    "f.add_arc(a)\n",
    "f.add_arc(c)\n",
    "f.add_arc(d)\n",
    "f.add_arc(e)"
   ]
  },
  {
   "cell_type": "code",
   "execution_count": 181,
   "metadata": {},
   "outputs": [],
   "source": [
    "d.add_arc(b)\n",
    "d.add_arc(c)\n",
    "d.add_arc(e)\n",
    "d.add_arc(f)"
   ]
  },
  {
   "cell_type": "code",
   "execution_count": 152,
   "metadata": {},
   "outputs": [
    {
     "name": "stdout",
     "output_type": "stream",
     "text": [
      "Node B with arcs to: {'A': Node A, 'C': Node C, 'D': Node D, 'E': Node E}\n"
     ]
    }
   ],
   "source": [
    "print(b)"
   ]
  },
  {
   "cell_type": "code",
   "execution_count": 182,
   "metadata": {},
   "outputs": [],
   "source": [
    "nodes = {\"A\":a,\"B\":b,\"C\":c,\"D\":d,\"E\":e,\"F\":f}"
   ]
  },
  {
   "cell_type": "code",
   "execution_count": 184,
   "metadata": {},
   "outputs": [],
   "source": [
    "def eulerian_path(nodes, start=None):\n",
    "    path = []\n",
    "    if start is not None:\n",
    "        i = start\n",
    "    else:\n",
    "        i = next(iter(nodes))\n",
    "    \n",
    "    while True:\n",
    "        \n",
    "        n = nodes[i]\n",
    "        #print(n)\n",
    "        \n",
    "        if len(n)==1:\n",
    "            b_key = next(iter(n.arcs))\n",
    "            b_item = n.arcs.pop(b_key)\n",
    "            b_item.arcs.pop(i)\n",
    "            path.append((n,b_item))\n",
    "            i = b_key\n",
    "        elif len(n) > 1:\n",
    "            b_key = None\n",
    "            b_item = None\n",
    "            for key, item in n.arcs.items():\n",
    "                if len(item) > 1:\n",
    "                    if b_item is not None:\n",
    "                        if len(b_item) < len(item):\n",
    "                            b_key = key\n",
    "                            b_item = item\n",
    "                    else:\n",
    "                        b_key = key\n",
    "                        b_item = item\n",
    "                    \n",
    "            \n",
    "            if b_item is None:\n",
    "                b_key = next(iter(n.arcs))\n",
    "                b_item = n.arcs[b_key]\n",
    "            \n",
    "            \n",
    "            n.arcs.pop(b_key)\n",
    "            b_item.arcs.pop(i)\n",
    "            path.append((n,b_item))\n",
    "            i = b_key\n",
    "        else:\n",
    "            return path\n",
    "            "
   ]
  },
  {
   "cell_type": "code",
   "execution_count": 185,
   "metadata": {},
   "outputs": [],
   "source": [
    "import copy\n",
    "\n",
    "def eulerian(nodes):\n",
    "    nodes_copy = copy.deepcopy(nodes)\n",
    "    \n",
    "    odd_count = 0\n",
    "    one_odd = None\n",
    "    for key, node in nodes_copy.items():\n",
    "        if not node.even():\n",
    "            one_odd = node\n",
    "            odd_count += 1\n",
    "    \n",
    "    if odd_count == 0:\n",
    "        print(\"It is an Eulerian Cycle\")\n",
    "        return eulerian_path(nodes_copy)\n",
    "    elif odd_count == 2:\n",
    "        print(\"It is an Eulerian Path\")\n",
    "        return eulerian_path(nodes_copy, one_odd.name)\n",
    "    else:\n",
    "        print(\"It is not possible to find an Eulerian Path\")\n",
    "            "
   ]
  },
  {
   "cell_type": "code",
   "execution_count": 186,
   "metadata": {},
   "outputs": [
    {
     "name": "stdout",
     "output_type": "stream",
     "text": [
      "It is an Eulerian Cycle\n"
     ]
    },
    {
     "data": {
      "text/plain": [
       "[(Node A, Node B),\n",
       " (Node B, Node C),\n",
       " (Node C, Node D),\n",
       " (Node D, Node E),\n",
       " (Node E, Node F),\n",
       " (Node F, Node C),\n",
       " (Node C, Node E),\n",
       " (Node E, Node B),\n",
       " (Node B, Node D),\n",
       " (Node D, Node F),\n",
       " (Node F, Node A)]"
      ]
     },
     "execution_count": 186,
     "metadata": {},
     "output_type": "execute_result"
    }
   ],
   "source": [
    "eulerian(nodes)"
   ]
  },
  {
   "cell_type": "markdown",
   "metadata": {},
   "source": [
    "Node F with arcs to: {'C': Node C, 'D': Node D, 'E': Node E}\n",
    "Node C with arcs to: {'B': Node B, 'D': Node D, 'E': Node E}\n",
    "Node B with arcs to: {'A': Node A, 'D': Node D, 'E': Node E}\n",
    "Node D with arcs to: {'C': Node C, 'E': Node E, 'F': Node F}\n",
    "Node C with arcs to: {'E': Node E}\n",
    "Node E with arcs to: {'B': Node B, 'D': Node D, 'F': Node F}\n",
    "Node B with arcs to: {'A': Node A}\n",
    "Node A with arcs to: {}"
   ]
  },
  {
   "cell_type": "code",
   "execution_count": null,
   "metadata": {},
   "outputs": [],
   "source": []
  }
 ],
 "metadata": {
  "kernelspec": {
   "display_name": "Python 3",
   "language": "python",
   "name": "python3"
  },
  "language_info": {
   "codemirror_mode": {
    "name": "ipython",
    "version": 3
   },
   "file_extension": ".py",
   "mimetype": "text/x-python",
   "name": "python",
   "nbconvert_exporter": "python",
   "pygments_lexer": "ipython3",
   "version": "3.7.3"
  }
 },
 "nbformat": 4,
 "nbformat_minor": 2
}
